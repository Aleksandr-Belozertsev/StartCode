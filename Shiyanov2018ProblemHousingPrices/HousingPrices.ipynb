{
 "cells": [
  {
   "cell_type": "code",
   "execution_count": 1,
   "metadata": {},
   "outputs": [],
   "source": [
    "import numpy as np\n",
    "import matplotlib.pyplot as plt\n",
    "from scipy.special import comb\n",
    "from skimage import transform"
   ]
  },
  {
   "cell_type": "code",
   "execution_count": 2,
   "metadata": {},
   "outputs": [
    {
     "name": "stderr",
     "output_type": "stream",
     "text": [
      "/usr/local/anaconda3/lib/python3.6/site-packages/h5py/__init__.py:36: FutureWarning: Conversion of the second argument of issubdtype from `float` to `np.floating` is deprecated. In future, it will be treated as `np.float64 == np.dtype(float).type`.\n",
      "  from ._conv import register_converters as _register_converters\n",
      "Using TensorFlow backend.\n"
     ]
    }
   ],
   "source": [
    "from keras.datasets import boston_housing\n",
    "\n",
    "(x_train, y_train), (x_test, y_test) = boston_housing.load_data()"
   ]
  },
  {
   "cell_type": "markdown",
   "metadata": {},
   "source": [
    "### Данные:\n",
    "Будем работать с датасетом [Boston Housing Prices](https://medium.com/@haydar_ai/learning-data-science-day-9-linear-regression-on-boston-housing-dataset-cd62a80775ef)."
   ]
  },
  {
   "cell_type": "code",
   "execution_count": 3,
   "metadata": {},
   "outputs": [
    {
     "data": {
      "text/plain": [
       "Text(0.5,0,'Price')"
      ]
     },
     "execution_count": 3,
     "metadata": {},
     "output_type": "execute_result"
    },
    {
     "data": {
      "image/png": "[encoded data removed]",
      "text/plain": [
       "<Figure size 432x288 with 1 Axes>"
      ]
     },
     "metadata": {},
     "output_type": "display_data"
    }
   ],
   "source": [
    "plt.hist(y_train, bins=25)\n",
    "plt.ylabel('Number of objects within borders')\n",
    "plt.xlabel('Price')"
   ]
  },
  {
   "cell_type": "markdown",
   "metadata": {},
   "source": [
    "### Задание.\n",
    "Будем решать задачу регрессии. Целевая переменная -- цена дома, признаки - различная информация о домохозяйстве. Для решения будем использовать линейную регрессию. Ваша задача - оценить качество решения в зависимости от количества объектов в обучающей выборке. Качество решения будем оценивать с помощью среднеквадратичной и среднеабсолютной ошибки, а так же [коэффициента детерминации $r^2$](http://scikit-learn.org/stable/modules/model_evaluation.html#r2-score-the-coefficient-of-determination). Также требуется оценить дисперсию данных функционалов в зависимости от числа объектов в обучающей выборке. \n",
    "\n",
    "*Обращаем ваше внимание, что для качественной оценки данных зависимостей эксперименты для каждого размера выборки стоит повторять многократно на различных случайных подвыборках.*"
   ]
  },
  {
   "cell_type": "code",
   "execution_count": 4,
   "metadata": {},
   "outputs": [],
   "source": [
    "from sklearn.linear_model import LinearRegression\n",
    "from sklearn.metrics import mean_absolute_error, mean_squared_error, r2_score\n",
    "from sklearn.externals.joblib import Parallel, delayed\n",
    "from multiprocessing import Pool"
   ]
  },
  {
   "cell_type": "code",
   "execution_count": 5,
   "metadata": {},
   "outputs": [
    {
     "data": {
      "text/plain": [
       "Text(0.5,1,'Prices vs Predicted prices: $Y_i$ vs $\\\\hat{Y}_i$')"
      ]
     },
     "execution_count": 5,
     "metadata": {},
     "output_type": "execute_result"
    },
    {
     "data": {
      "image/png": "[encoded data removed]",
      "text/plain": [
       "<Figure size 432x288 with 1 Axes>"
      ]
     },
     "metadata": {},
     "output_type": "display_data"
    }
   ],
   "source": [
    "lm = LinearRegression()\n",
    "lm.fit(x_train, y_train)\n",
    "\n",
    "y_pred = lm.predict(x_test)\n",
    "\n",
    "plt.scatter(y_test, y_pred)\n",
    "plt.xlabel(\"Prices: $Y_i$\")\n",
    "plt.ylabel(\"Predicted prices: $\\hat{Y}_i$\")\n",
    "plt.title(\"Prices vs Predicted prices: $Y_i$ vs $\\hat{Y}_i$\")"
   ]
  },
  {
   "cell_type": "code",
   "execution_count": 6,
   "metadata": {},
   "outputs": [
    {
     "name": "stdout",
     "output_type": "stream",
     "text": [
      "mae = 3.464185812406724\n",
      "mse = 23.195599256422998\n",
      "prediction variance = 45.78048685033721\n"
     ]
    }
   ],
   "source": [
    "print('mae = {}'.format(mean_absolute_error(y_test, y_pred)))\n",
    "print('mse = {}'.format(mean_squared_error(y_test, y_pred)))\n",
    "print('prediction variance = {}'.format(np.std((y_test - y_pred)**2)))"
   ]
  },
  {
   "cell_type": "code",
   "execution_count": 7,
   "metadata": {},
   "outputs": [],
   "source": [
    "def get_random_train_subsets(x_train, y_train, size):\n",
    "    assert len(x_train) == len(y_train)\n",
    "    # https://stackoverflow.com/questions/19485641/python-random-sample-of-two-arrays-but-matching-indices\n",
    "    index = np.random.choice(np.arange(len(x_train)), size, replace=False)\n",
    "    return (x_train[index], y_train[index])\n",
    "\n",
    "def get_dict_from_list_of_tuples(lst):\n",
    "    # https://stackoverflow.com/questions/28176949/convert-list-of-tuples-to-structured-numpy-array\n",
    "    dt = np.dtype('float,float,float')\n",
    "    dt.names = ['mae', 'mse', 'r2']\n",
    "    return np.array(lst, dtype=dt)"
   ]
  },
  {
   "cell_type": "code",
   "execution_count": 8,
   "metadata": {},
   "outputs": [],
   "source": [
    "class LinearRegressionTester:\n",
    "    def __init__(self, x_train, y_train, x_test, y_test):\n",
    "        assert len(x_train) == len(y_train)\n",
    "        assert len(x_test) == len(y_test)\n",
    "        self.x_train = x_train\n",
    "        self.y_train = y_train\n",
    "        self.x_test = x_test\n",
    "        self.y_test = y_test\n",
    "\n",
    "    def test(self, size):\n",
    "        assert size <= len(x_train)\n",
    "        self.size = size\n",
    "        test_results = self.run_tests()\n",
    "        return get_dict_from_list_of_tuples(test_results)\n",
    "\n",
    "    def run_tests(self):\n",
    "        test_results = []\n",
    "        for _ in range(self.get_num_of_tests()):\n",
    "            test_result = self.test_linear_regression()\n",
    "            test_results.append(test_result)\n",
    "        return test_results\n",
    "\n",
    "    def test_linear_regression(self):\n",
    "        (x_train_subset, y_train_subset) = get_random_train_subsets(self.x_train, self.y_train, self.size)\n",
    "        \n",
    "        lm = LinearRegression()\n",
    "        lm.fit(x_train_subset, y_train_subset)\n",
    "\n",
    "        y_pred = lm.predict(self.x_test)\n",
    "\n",
    "        mae = mean_absolute_error(self.y_test, y_pred)\n",
    "        mse = mean_squared_error(self.y_test, y_pred)\n",
    "        r2 = r2_score(self.y_test, y_pred)\n",
    "\n",
    "        return (mae, mse, r2)\n",
    "\n",
    "    def get_num_of_tests(self):\n",
    "        return 20"
   ]
  },
  {
   "cell_type": "code",
   "execution_count": 9,
   "metadata": {},
   "outputs": [],
   "source": [
    "def plot_test_results(test_results):\n",
    "    plt.plot(test_results['mae'])\n",
    "    plt.plot(test_results['mse'])\n",
    "    plt.plot(test_results['r2'])"
   ]
  },
  {
   "cell_type": "code",
   "execution_count": 10,
   "metadata": {},
   "outputs": [
    {
     "data": {
      "image/png": "[encoded data removed]",
      "text/plain": [
       "<Figure size 432x288 with 1 Axes>"
      ]
     },
     "metadata": {},
     "output_type": "display_data"
    }
   ],
   "source": [
    "test_results = []\n",
    "tester = LinearRegressionTester(x_train, y_train, x_test, y_test)\n",
    "\n",
    "for size in range(50, len(x_train)):\n",
    "    test_result = tester.test(size)\n",
    "    \n",
    "    mean_mae = np.mean(test_result['mae'])\n",
    "    mean_mse = np.mean(test_result['mse'])\n",
    "    mean_r2 = np.mean(test_result['r2'])\n",
    "    \n",
    "    test_results.append((mean_mae, mean_mse, mean_r2))\n",
    "    \n",
    "test_results = get_dict_from_list_of_tuples(test_results)\n",
    "plot_test_results(test_results)"
   ]
  },
  {
   "cell_type": "code",
   "execution_count": 11,
   "metadata": {},
   "outputs": [],
   "source": [
    "# # Plot code example from ODS Open Machine Course notebook from lesson 9\n",
    "# # Source: https://github.com/Yorko/mlcourse_open/blob/master/jupyter_russian/topic09_time_series/topic9_part1_time_series_python.ipynb\n",
    "#     plt.figure(figsize=(15, 5))\n",
    "#     plt.plot(prediction_test, label=\"prediction\")\n",
    "#     plt.plot(lower, \"r--\", label=\"upper bond / lower bond\")\n",
    "#     plt.plot(upper, \"r--\")\n",
    "#     plt.plot(list(y_test), label=\"y_test\")\n",
    "#     plt.plot(Anomalies, \"ro\", markersize=10)\n",
    "#     plt.legend(loc=\"best\")\n",
    "#     plt.axis('tight')\n",
    "#     plt.title(\"XGBoost Mean absolute error {} users\".format(round(mean_absolute_error(prediction_test, y_test))))\n",
    "#     plt.grid(True)\n",
    "#     plt.legend()"
   ]
  },
  {
   "cell_type": "code",
   "execution_count": 12,
   "metadata": {},
   "outputs": [],
   "source": [
    "### Your code here"
   ]
  }
 ],
 "metadata": {
  "kernelspec": {
   "display_name": "Python 3",
   "language": "python",
   "name": "python3"
  },
  "language_info": {
   "codemirror_mode": {
    "name": "ipython",
    "version": 3
   },
   "file_extension": ".py",
   "mimetype": "text/x-python",
   "name": "python",
   "nbconvert_exporter": "python",
   "pygments_lexer": "ipython3",
   "version": "3.6.5"
  }
 },
 "nbformat": 4,
 "nbformat_minor": 2
}
