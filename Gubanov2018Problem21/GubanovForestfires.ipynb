{
 "cells": [
  {
   "cell_type": "raw",
   "metadata": {},
   "source": [
    "Задача 21\n",
    "\n",
    "Предсказание площади лесных пожаров. На основе погодных измерений необходимо предсказать объем выгоревших лесных массивов на севере Португалии. Выборка состоит из 13 признаков и 517 объектов."
   ]
  },
  {
   "cell_type": "code",
   "execution_count": 1,
   "metadata": {},
   "outputs": [],
   "source": [
    "import numpy as np\n",
    "import pandas as pd\n"
   ]
  },
  {
   "cell_type": "code",
   "execution_count": 2,
   "metadata": {},
   "outputs": [],
   "source": [
    "data = pd.read_csv(\"forestfires.csv\", sep = \",\")\n",
    "months = ['jan', 'feb', 'mar', 'apr', 'may', 'jun', 'jul', 'aug', 'sep', 'oct', 'nov', 'dec']\n",
    "days = ['mon', 'tue', 'wed', 'thu', 'fri', 'sat', 'sun']\n",
    "months, days = [{elem:i for i,elem in enumerate(arr)} for arr in (months,days)]"
   ]
  },
  {
   "cell_type": "code",
   "execution_count": 3,
   "metadata": {},
   "outputs": [
    {
     "data": {
      "text/plain": [
       "({'jan': 0,\n",
       "  'feb': 1,\n",
       "  'mar': 2,\n",
       "  'apr': 3,\n",
       "  'may': 4,\n",
       "  'jun': 5,\n",
       "  'jul': 6,\n",
       "  'aug': 7,\n",
       "  'sep': 8,\n",
       "  'oct': 9,\n",
       "  'nov': 10,\n",
       "  'dec': 11},\n",
       " {'mon': 0, 'tue': 1, 'wed': 2, 'thu': 3, 'fri': 4, 'sat': 5, 'sun': 6})"
      ]
     },
     "execution_count": 3,
     "metadata": {},
     "output_type": "execute_result"
    }
   ],
   "source": [
    "months, days"
   ]
  },
  {
   "cell_type": "code",
   "execution_count": 4,
   "metadata": {},
   "outputs": [
    {
     "data": {
      "text/html": [
       "<div>\n",
       "<style scoped>\n",
       "    .dataframe tbody tr th:only-of-type {\n",
       "        vertical-align: middle;\n",
       "    }\n",
       "\n",
       "    .dataframe tbody tr th {\n",
       "        vertical-align: top;\n",
       "    }\n",
       "\n",
       "    .dataframe thead th {\n",
       "        text-align: right;\n",
       "    }\n",
       "</style>\n",
       "<table border=\"1\" class=\"dataframe\">\n",
       "  <thead>\n",
       "    <tr style=\"text-align: right;\">\n",
       "      <th></th>\n",
       "      <th>X</th>\n",
       "      <th>Y</th>\n",
       "      <th>month</th>\n",
       "      <th>day</th>\n",
       "      <th>FFMC</th>\n",
       "      <th>DMC</th>\n",
       "      <th>DC</th>\n",
       "      <th>ISI</th>\n",
       "      <th>temp</th>\n",
       "      <th>RH</th>\n",
       "      <th>wind</th>\n",
       "      <th>rain</th>\n",
       "      <th>area</th>\n",
       "    </tr>\n",
       "  </thead>\n",
       "  <tbody>\n",
       "    <tr>\n",
       "      <th>0</th>\n",
       "      <td>7</td>\n",
       "      <td>5</td>\n",
       "      <td>mar</td>\n",
       "      <td>fri</td>\n",
       "      <td>86.2</td>\n",
       "      <td>26.2</td>\n",
       "      <td>94.3</td>\n",
       "      <td>5.1</td>\n",
       "      <td>8.2</td>\n",
       "      <td>51</td>\n",
       "      <td>6.7</td>\n",
       "      <td>0.0</td>\n",
       "      <td>0.0</td>\n",
       "    </tr>\n",
       "    <tr>\n",
       "      <th>1</th>\n",
       "      <td>7</td>\n",
       "      <td>4</td>\n",
       "      <td>oct</td>\n",
       "      <td>tue</td>\n",
       "      <td>90.6</td>\n",
       "      <td>35.4</td>\n",
       "      <td>669.1</td>\n",
       "      <td>6.7</td>\n",
       "      <td>18.0</td>\n",
       "      <td>33</td>\n",
       "      <td>0.9</td>\n",
       "      <td>0.0</td>\n",
       "      <td>0.0</td>\n",
       "    </tr>\n",
       "    <tr>\n",
       "      <th>2</th>\n",
       "      <td>7</td>\n",
       "      <td>4</td>\n",
       "      <td>oct</td>\n",
       "      <td>sat</td>\n",
       "      <td>90.6</td>\n",
       "      <td>43.7</td>\n",
       "      <td>686.9</td>\n",
       "      <td>6.7</td>\n",
       "      <td>14.6</td>\n",
       "      <td>33</td>\n",
       "      <td>1.3</td>\n",
       "      <td>0.0</td>\n",
       "      <td>0.0</td>\n",
       "    </tr>\n",
       "    <tr>\n",
       "      <th>3</th>\n",
       "      <td>8</td>\n",
       "      <td>6</td>\n",
       "      <td>mar</td>\n",
       "      <td>fri</td>\n",
       "      <td>91.7</td>\n",
       "      <td>33.3</td>\n",
       "      <td>77.5</td>\n",
       "      <td>9.0</td>\n",
       "      <td>8.3</td>\n",
       "      <td>97</td>\n",
       "      <td>4.0</td>\n",
       "      <td>0.2</td>\n",
       "      <td>0.0</td>\n",
       "    </tr>\n",
       "    <tr>\n",
       "      <th>4</th>\n",
       "      <td>8</td>\n",
       "      <td>6</td>\n",
       "      <td>mar</td>\n",
       "      <td>sun</td>\n",
       "      <td>89.3</td>\n",
       "      <td>51.3</td>\n",
       "      <td>102.2</td>\n",
       "      <td>9.6</td>\n",
       "      <td>11.4</td>\n",
       "      <td>99</td>\n",
       "      <td>1.8</td>\n",
       "      <td>0.0</td>\n",
       "      <td>0.0</td>\n",
       "    </tr>\n",
       "  </tbody>\n",
       "</table>\n",
       "</div>"
      ],
      "text/plain": [
       "   X  Y month  day  FFMC   DMC     DC  ISI  temp  RH  wind  rain  area\n",
       "0  7  5   mar  fri  86.2  26.2   94.3  5.1   8.2  51   6.7   0.0   0.0\n",
       "1  7  4   oct  tue  90.6  35.4  669.1  6.7  18.0  33   0.9   0.0   0.0\n",
       "2  7  4   oct  sat  90.6  43.7  686.9  6.7  14.6  33   1.3   0.0   0.0\n",
       "3  8  6   mar  fri  91.7  33.3   77.5  9.0   8.3  97   4.0   0.2   0.0\n",
       "4  8  6   mar  sun  89.3  51.3  102.2  9.6  11.4  99   1.8   0.0   0.0"
      ]
     },
     "execution_count": 4,
     "metadata": {},
     "output_type": "execute_result"
    }
   ],
   "source": [
    "data.head()"
   ]
  },
  {
   "cell_type": "code",
   "execution_count": 5,
   "metadata": {},
   "outputs": [],
   "source": [
    "def replace_names_from_dict(data_frame, col_name, dict_name, soft=True):\n",
    "    if soft:\n",
    "        return [dict_name.get(elem, elem) for elem in data_frame[col_name]]\n",
    "    return [dict_name[elem] for elem in data_frame[col_name]]\n",
    "\n",
    "data['month'] = replace_names_from_dict(data, 'month', months)\n",
    "data['day'] = replace_names_from_dict(data, 'day', days)"
   ]
  },
  {
   "cell_type": "code",
   "execution_count": 6,
   "metadata": {},
   "outputs": [
    {
     "data": {
      "text/html": [
       "<div>\n",
       "<style scoped>\n",
       "    .dataframe tbody tr th:only-of-type {\n",
       "        vertical-align: middle;\n",
       "    }\n",
       "\n",
       "    .dataframe tbody tr th {\n",
       "        vertical-align: top;\n",
       "    }\n",
       "\n",
       "    .dataframe thead th {\n",
       "        text-align: right;\n",
       "    }\n",
       "</style>\n",
       "<table border=\"1\" class=\"dataframe\">\n",
       "  <thead>\n",
       "    <tr style=\"text-align: right;\">\n",
       "      <th></th>\n",
       "      <th>X</th>\n",
       "      <th>Y</th>\n",
       "      <th>month</th>\n",
       "      <th>day</th>\n",
       "      <th>FFMC</th>\n",
       "      <th>DMC</th>\n",
       "      <th>DC</th>\n",
       "      <th>ISI</th>\n",
       "      <th>temp</th>\n",
       "      <th>RH</th>\n",
       "      <th>wind</th>\n",
       "      <th>rain</th>\n",
       "      <th>area</th>\n",
       "    </tr>\n",
       "  </thead>\n",
       "  <tbody>\n",
       "    <tr>\n",
       "      <th>0</th>\n",
       "      <td>7</td>\n",
       "      <td>5</td>\n",
       "      <td>2</td>\n",
       "      <td>4</td>\n",
       "      <td>86.2</td>\n",
       "      <td>26.2</td>\n",
       "      <td>94.3</td>\n",
       "      <td>5.1</td>\n",
       "      <td>8.2</td>\n",
       "      <td>51</td>\n",
       "      <td>6.7</td>\n",
       "      <td>0.0</td>\n",
       "      <td>0.0</td>\n",
       "    </tr>\n",
       "    <tr>\n",
       "      <th>1</th>\n",
       "      <td>7</td>\n",
       "      <td>4</td>\n",
       "      <td>9</td>\n",
       "      <td>1</td>\n",
       "      <td>90.6</td>\n",
       "      <td>35.4</td>\n",
       "      <td>669.1</td>\n",
       "      <td>6.7</td>\n",
       "      <td>18.0</td>\n",
       "      <td>33</td>\n",
       "      <td>0.9</td>\n",
       "      <td>0.0</td>\n",
       "      <td>0.0</td>\n",
       "    </tr>\n",
       "    <tr>\n",
       "      <th>2</th>\n",
       "      <td>7</td>\n",
       "      <td>4</td>\n",
       "      <td>9</td>\n",
       "      <td>5</td>\n",
       "      <td>90.6</td>\n",
       "      <td>43.7</td>\n",
       "      <td>686.9</td>\n",
       "      <td>6.7</td>\n",
       "      <td>14.6</td>\n",
       "      <td>33</td>\n",
       "      <td>1.3</td>\n",
       "      <td>0.0</td>\n",
       "      <td>0.0</td>\n",
       "    </tr>\n",
       "    <tr>\n",
       "      <th>3</th>\n",
       "      <td>8</td>\n",
       "      <td>6</td>\n",
       "      <td>2</td>\n",
       "      <td>4</td>\n",
       "      <td>91.7</td>\n",
       "      <td>33.3</td>\n",
       "      <td>77.5</td>\n",
       "      <td>9.0</td>\n",
       "      <td>8.3</td>\n",
       "      <td>97</td>\n",
       "      <td>4.0</td>\n",
       "      <td>0.2</td>\n",
       "      <td>0.0</td>\n",
       "    </tr>\n",
       "    <tr>\n",
       "      <th>4</th>\n",
       "      <td>8</td>\n",
       "      <td>6</td>\n",
       "      <td>2</td>\n",
       "      <td>6</td>\n",
       "      <td>89.3</td>\n",
       "      <td>51.3</td>\n",
       "      <td>102.2</td>\n",
       "      <td>9.6</td>\n",
       "      <td>11.4</td>\n",
       "      <td>99</td>\n",
       "      <td>1.8</td>\n",
       "      <td>0.0</td>\n",
       "      <td>0.0</td>\n",
       "    </tr>\n",
       "  </tbody>\n",
       "</table>\n",
       "</div>"
      ],
      "text/plain": [
       "   X  Y  month  day  FFMC   DMC     DC  ISI  temp  RH  wind  rain  area\n",
       "0  7  5      2    4  86.2  26.2   94.3  5.1   8.2  51   6.7   0.0   0.0\n",
       "1  7  4      9    1  90.6  35.4  669.1  6.7  18.0  33   0.9   0.0   0.0\n",
       "2  7  4      9    5  90.6  43.7  686.9  6.7  14.6  33   1.3   0.0   0.0\n",
       "3  8  6      2    4  91.7  33.3   77.5  9.0   8.3  97   4.0   0.2   0.0\n",
       "4  8  6      2    6  89.3  51.3  102.2  9.6  11.4  99   1.8   0.0   0.0"
      ]
     },
     "execution_count": 6,
     "metadata": {},
     "output_type": "execute_result"
    }
   ],
   "source": [
    "data.head()"
   ]
  },
  {
   "cell_type": "code",
   "execution_count": null,
   "metadata": {},
   "outputs": [],
   "source": []
  },
  {
   "cell_type": "raw",
   "metadata": {},
   "source": [
    "Для решения задачи предлагается использовать метод наименьших квадратов с регуляризацией"
   ]
  },
  {
   "cell_type": "code",
   "execution_count": 7,
   "metadata": {},
   "outputs": [],
   "source": [
    "fit_data = data.iloc[:, 0:12]\n",
    "answers = data.iloc[:,[12]]"
   ]
  },
  {
   "cell_type": "code",
   "execution_count": 52,
   "metadata": {},
   "outputs": [
    {
     "data": {
      "text/html": [
       "<div>\n",
       "<style scoped>\n",
       "    .dataframe tbody tr th:only-of-type {\n",
       "        vertical-align: middle;\n",
       "    }\n",
       "\n",
       "    .dataframe tbody tr th {\n",
       "        vertical-align: top;\n",
       "    }\n",
       "\n",
       "    .dataframe thead th {\n",
       "        text-align: right;\n",
       "    }\n",
       "</style>\n",
       "<table border=\"1\" class=\"dataframe\">\n",
       "  <thead>\n",
       "    <tr style=\"text-align: right;\">\n",
       "      <th></th>\n",
       "      <th>area</th>\n",
       "    </tr>\n",
       "  </thead>\n",
       "  <tbody>\n",
       "    <tr>\n",
       "      <th>3</th>\n",
       "      <td>0.000000</td>\n",
       "    </tr>\n",
       "    <tr>\n",
       "      <th>211</th>\n",
       "      <td>3.295837</td>\n",
       "    </tr>\n",
       "    <tr>\n",
       "      <th>433</th>\n",
       "      <td>2.793616</td>\n",
       "    </tr>\n",
       "    <tr>\n",
       "      <th>258</th>\n",
       "      <td>0.000000</td>\n",
       "    </tr>\n",
       "    <tr>\n",
       "      <th>469</th>\n",
       "      <td>4.129229</td>\n",
       "    </tr>\n",
       "  </tbody>\n",
       "</table>\n",
       "</div>"
      ],
      "text/plain": [
       "         area\n",
       "3    0.000000\n",
       "211  3.295837\n",
       "433  2.793616\n",
       "258  0.000000\n",
       "469  4.129229"
      ]
     },
     "execution_count": 52,
     "metadata": {},
     "output_type": "execute_result"
    }
   ],
   "source": []
  },
  {
   "cell_type": "code",
   "execution_count": 8,
   "metadata": {},
   "outputs": [],
   "source": [
    "from sklearn import linear_model"
   ]
  },
  {
   "cell_type": "code",
   "execution_count": 9,
   "metadata": {},
   "outputs": [
    {
     "data": {
      "text/plain": [
       "array([[ 1.96457383,  0.27878714,  2.73554251,  0.75522327, -0.06627348,\n",
       "         0.09757215, -0.02967479, -0.7294371 ,  0.85598704, -0.21496874,\n",
       "         1.18440884, -2.9016266 ]])"
      ]
     },
     "execution_count": 9,
     "metadata": {},
     "output_type": "execute_result"
    }
   ],
   "source": [
    "reg = linear_model.Ridge (alpha = .5)\n",
    "reg.fit(fit_data, answers)\n",
    "reg.coef_"
   ]
  },
  {
   "cell_type": "raw",
   "metadata": {},
   "source": [
    "Нарисовать график весов признаков и общей ошибки на кросс-валидации при изменении параметра регуляризации. Какие признаки наиболее важны для нашей задачи? Что изменится, если предварительно все признаки стандартизовать? "
   ]
  },
  {
   "cell_type": "code",
   "execution_count": 10,
   "metadata": {},
   "outputs": [
    {
     "name": "stderr",
     "output_type": "stream",
     "text": [
      "/home/cth0/.local/lib/python3.6/site-packages/sklearn/cross_validation.py:41: DeprecationWarning: This module was deprecated in version 0.18 in favor of the model_selection module into which all the refactored classes and functions are moved. Also note that the interface of the new CV iterators are different from that of this module. This module will be removed in 0.20.\n",
      "  \"This module will be removed in 0.20.\", DeprecationWarning)\n"
     ]
    }
   ],
   "source": [
    "#Prepare data for cross-val learning\n",
    "from sklearn.utils import shuffle\n",
    "from sklearn.cross_validation import cross_val_score\n",
    "from math import log\n",
    "\n",
    "data['area'] = [log(x+1) for x in data['area']]\n",
    "#as most of areas are small or zero, take a logarithm of area\n",
    "#as was advised in the description of the dataset\n",
    "data = shuffle(data)\n",
    "fit_data = data.iloc[:, 0:12]\n",
    "answers = data.iloc[:,[12]]"
   ]
  },
  {
   "cell_type": "code",
   "execution_count": 54,
   "metadata": {},
   "outputs": [
    {
     "data": {
      "text/html": [
       "<div>\n",
       "<style scoped>\n",
       "    .dataframe tbody tr th:only-of-type {\n",
       "        vertical-align: middle;\n",
       "    }\n",
       "\n",
       "    .dataframe tbody tr th {\n",
       "        vertical-align: top;\n",
       "    }\n",
       "\n",
       "    .dataframe thead th {\n",
       "        text-align: right;\n",
       "    }\n",
       "</style>\n",
       "<table border=\"1\" class=\"dataframe\">\n",
       "  <thead>\n",
       "    <tr style=\"text-align: right;\">\n",
       "      <th></th>\n",
       "      <th>X</th>\n",
       "      <th>Y</th>\n",
       "      <th>month</th>\n",
       "      <th>day</th>\n",
       "      <th>FFMC</th>\n",
       "      <th>DMC</th>\n",
       "      <th>DC</th>\n",
       "      <th>ISI</th>\n",
       "      <th>temp</th>\n",
       "      <th>RH</th>\n",
       "      <th>wind</th>\n",
       "      <th>rain</th>\n",
       "    </tr>\n",
       "  </thead>\n",
       "  <tbody>\n",
       "    <tr>\n",
       "      <th>3</th>\n",
       "      <td>8</td>\n",
       "      <td>6</td>\n",
       "      <td>2</td>\n",
       "      <td>4</td>\n",
       "      <td>91.7</td>\n",
       "      <td>33.3</td>\n",
       "      <td>77.5</td>\n",
       "      <td>9.0</td>\n",
       "      <td>8.3</td>\n",
       "      <td>97</td>\n",
       "      <td>4.0</td>\n",
       "      <td>0.2</td>\n",
       "    </tr>\n",
       "    <tr>\n",
       "      <th>211</th>\n",
       "      <td>7</td>\n",
       "      <td>4</td>\n",
       "      <td>7</td>\n",
       "      <td>5</td>\n",
       "      <td>93.5</td>\n",
       "      <td>139.4</td>\n",
       "      <td>594.2</td>\n",
       "      <td>20.3</td>\n",
       "      <td>5.1</td>\n",
       "      <td>96</td>\n",
       "      <td>5.8</td>\n",
       "      <td>0.0</td>\n",
       "    </tr>\n",
       "    <tr>\n",
       "      <th>433</th>\n",
       "      <td>2</td>\n",
       "      <td>4</td>\n",
       "      <td>7</td>\n",
       "      <td>6</td>\n",
       "      <td>93.6</td>\n",
       "      <td>235.1</td>\n",
       "      <td>723.1</td>\n",
       "      <td>10.1</td>\n",
       "      <td>20.9</td>\n",
       "      <td>66</td>\n",
       "      <td>4.9</td>\n",
       "      <td>0.0</td>\n",
       "    </tr>\n",
       "    <tr>\n",
       "      <th>258</th>\n",
       "      <td>3</td>\n",
       "      <td>4</td>\n",
       "      <td>7</td>\n",
       "      <td>5</td>\n",
       "      <td>91.8</td>\n",
       "      <td>170.9</td>\n",
       "      <td>692.3</td>\n",
       "      <td>13.7</td>\n",
       "      <td>20.6</td>\n",
       "      <td>59</td>\n",
       "      <td>0.9</td>\n",
       "      <td>0.0</td>\n",
       "    </tr>\n",
       "    <tr>\n",
       "      <th>469</th>\n",
       "      <td>6</td>\n",
       "      <td>3</td>\n",
       "      <td>3</td>\n",
       "      <td>6</td>\n",
       "      <td>91.0</td>\n",
       "      <td>14.6</td>\n",
       "      <td>25.6</td>\n",
       "      <td>12.3</td>\n",
       "      <td>13.7</td>\n",
       "      <td>33</td>\n",
       "      <td>9.4</td>\n",
       "      <td>0.0</td>\n",
       "    </tr>\n",
       "  </tbody>\n",
       "</table>\n",
       "</div>"
      ],
      "text/plain": [
       "     X  Y  month  day  FFMC    DMC     DC   ISI  temp  RH  wind  rain\n",
       "3    8  6      2    4  91.7   33.3   77.5   9.0   8.3  97   4.0   0.2\n",
       "211  7  4      7    5  93.5  139.4  594.2  20.3   5.1  96   5.8   0.0\n",
       "433  2  4      7    6  93.6  235.1  723.1  10.1  20.9  66   4.9   0.0\n",
       "258  3  4      7    5  91.8  170.9  692.3  13.7  20.6  59   0.9   0.0\n",
       "469  6  3      3    6  91.0   14.6   25.6  12.3  13.7  33   9.4   0.0"
      ]
     },
     "execution_count": 54,
     "metadata": {},
     "output_type": "execute_result"
    }
   ],
   "source": [
    "fit_data.head()"
   ]
  },
  {
   "cell_type": "code",
   "execution_count": 34,
   "metadata": {},
   "outputs": [],
   "source": [
    "from sklearn.cross_validation import cross_val_score as cv_score\n",
    "\n",
    "regularization_params = [i/10 for i in range(15)]\n",
    "coeffs= []\n",
    "for param in regularization_params:\n",
    "    model = linear_model.Ridge(param)\n",
    "    model.fit(fit_data, answers)\n",
    "    coeffs.append(model.coef_)\n",
    "for i in range(len(coeffs)):\n",
    "    coeffs[i] = np.reshape(coeffs[i], (12,))"
   ]
  },
  {
   "cell_type": "code",
   "execution_count": 35,
   "metadata": {},
   "outputs": [
    {
     "data": {
      "text/plain": [
       "[array([ 0.0425947 , -0.00129011,  0.1550639 ,  0.00862479,  0.00502995,\n",
       "         0.00240059, -0.00119776, -0.02492829,  0.00730238, -0.00418998,\n",
       "         0.05759247,  0.08504343]),\n",
       " array([ 0.04259338, -0.001285  ,  0.15503475,  0.00862141,  0.00503083,\n",
       "         0.00240036, -0.00119749, -0.02492754,  0.00730302, -0.00418953,\n",
       "         0.05759481,  0.08484726]),\n",
       " array([ 0.04259207, -0.00127989,  0.15500562,  0.00861804,  0.0050317 ,\n",
       "         0.00240012, -0.00119722, -0.02492678,  0.00730365, -0.00418908,\n",
       "         0.05759715,  0.084652  ]),\n",
       " array([ 0.04259074, -0.00127478,  0.1549765 ,  0.00861468,  0.00503257,\n",
       "         0.00239988, -0.00119695, -0.02492602,  0.00730427, -0.00418863,\n",
       "         0.05759946,  0.08445766]),\n",
       " array([ 0.04258942, -0.00126967,  0.15494739,  0.00861133,  0.00503343,\n",
       "         0.00239965, -0.00119668, -0.02492526,  0.00730488, -0.00418819,\n",
       "         0.05760177,  0.08426421]),\n",
       " array([ 0.04258808, -0.00126457,  0.1549183 ,  0.008608  ,  0.0050343 ,\n",
       "         0.00239941, -0.00119641, -0.0249245 ,  0.00730548, -0.00418776,\n",
       "         0.05760405,  0.08407165]),\n",
       " array([ 0.04258675, -0.00125947,  0.15488922,  0.00860467,  0.00503516,\n",
       "         0.00239918, -0.00119614, -0.02492373,  0.00730607, -0.00418732,\n",
       "         0.05760632,  0.08387998]),\n",
       " array([ 0.0425854 , -0.00125437,  0.15486016,  0.00860136,  0.00503601,\n",
       "         0.00239894, -0.00119587, -0.02492297,  0.00730665, -0.00418689,\n",
       "         0.05760858,  0.08368919]),\n",
       " array([ 0.04258406, -0.00124927,  0.15483111,  0.00859805,  0.00503687,\n",
       "         0.00239871, -0.0011956 , -0.02492221,  0.00730722, -0.00418647,\n",
       "         0.05761082,  0.08349928]),\n",
       " array([ 0.0425827 , -0.00124417,  0.15480207,  0.00859476,  0.00503772,\n",
       "         0.00239847, -0.00119532, -0.02492144,  0.00730778, -0.00418605,\n",
       "         0.05761304,  0.08331023]),\n",
       " array([ 0.04258134, -0.00123908,  0.15477305,  0.00859148,  0.00503856,\n",
       "         0.00239824, -0.00119505, -0.02492068,  0.00730832, -0.00418563,\n",
       "         0.05761525,  0.08312205]),\n",
       " array([ 0.04257998, -0.00123399,  0.15474404,  0.00858821,  0.00503941,\n",
       "         0.002398  , -0.00119478, -0.02491991,  0.00730886, -0.00418521,\n",
       "         0.05761745,  0.08293473]),\n",
       " array([ 0.04257861, -0.0012289 ,  0.15471504,  0.00858495,  0.00504025,\n",
       "         0.00239777, -0.00119451, -0.02491914,  0.00730939, -0.0041848 ,\n",
       "         0.05761963,  0.08274825]),\n",
       " array([ 0.04257724, -0.00122382,  0.15468606,  0.00858169,  0.00504109,\n",
       "         0.00239753, -0.00119424, -0.02491838,  0.00730991, -0.00418439,\n",
       "         0.0576218 ,  0.08256262]),\n",
       " array([ 0.04257587, -0.00121873,  0.15465709,  0.00857845,  0.00504192,\n",
       "         0.0023973 , -0.00119397, -0.02491761,  0.00731042, -0.00418399,\n",
       "         0.05762395,  0.08237783])]"
      ]
     },
     "execution_count": 35,
     "metadata": {},
     "output_type": "execute_result"
    }
   ],
   "source": [
    "coeffs"
   ]
  },
  {
   "cell_type": "code",
   "execution_count": 39,
   "metadata": {},
   "outputs": [
    {
     "data": {
      "image/png": "[encoded data removed]",
      "text/plain": [
       "<Figure size 648x648 with 1 Axes>"
      ]
     },
     "metadata": {
      "needs_background": "light"
     },
     "output_type": "display_data"
    }
   ],
   "source": [
    "#from recomendations\n",
    "from matplotlib import pyplot as plt\n",
    "plt.rcParams['font.family'] = 'serif'\n",
    "plt.rcParams['font.serif'] = 'FreeSerif'\n",
    "plt.rcParams['lines.linewidth'] = 2\n",
    "plt.rcParams['lines.markersize'] = 12\n",
    "plt.rcParams['xtick.labelsize'] = 24\n",
    "plt.rcParams['ytick.labelsize'] = 24\n",
    "plt.rcParams['legend.fontsize'] = 16\n",
    "plt.rcParams['axes.titlesize'] = 36\n",
    "plt.rcParams['axes.labelsize'] = 24\n",
    "\n",
    "plt.figure(figsize=(9, 9))\n",
    "plt.plot(regularization_params, coeffs)\n",
    "plt.legend(data.columns)\n",
    "plt.show()"
   ]
  },
  {
   "cell_type": "code",
   "execution_count": 40,
   "metadata": {},
   "outputs": [],
   "source": [
    "main_features_num = []\n",
    "for i, coeff in enumerate(coeffs[0]):\n",
    "    if coeff > 0.04:\n",
    "        main_features_num.append(i)\n",
    "plot_y = [[coeffs[param_num][main_feature] for main_feature in main_features_num] for param_num in range(len(coeffs))]\n",
    "labels = [data.columns[main_feature] for main_feature in main_features_num]"
   ]
  },
  {
   "cell_type": "code",
   "execution_count": 41,
   "metadata": {},
   "outputs": [
    {
     "data": {
      "image/png": "[encoded data removed]",
      "text/plain": [
       "<Figure size 648x648 with 1 Axes>"
      ]
     },
     "metadata": {
      "needs_background": "light"
     },
     "output_type": "display_data"
    }
   ],
   "source": [
    "plt.figure(figsize=(9, 9))\n",
    "plt.plot(regularization_params, plot_y)\n",
    "plt.legend(labels)\n",
    "plt.show()"
   ]
  },
  {
   "cell_type": "code",
   "execution_count": 55,
   "metadata": {},
   "outputs": [],
   "source": [
    "from sklearn.metrics import r2_score, make_scorer\n",
    "\n",
    "scores = []\n",
    "for param in regularization_params:\n",
    "    scores.append(cv_score(linear_model.Ridge(alpha=param), fit_data, answers, scoring = make_scorer(r2_score), cv = 5)) #5 bunches"
   ]
  },
  {
   "cell_type": "code",
   "execution_count": 56,
   "metadata": {},
   "outputs": [
    {
     "data": {
      "text/plain": [
       "[array([-0.00580328, -0.40403534,  0.00142337, -0.01776753, -0.03727693]),\n",
       " array([-0.00579301, -0.38690548,  0.00144058, -0.01775852, -0.03726942]),\n",
       " array([-0.00578276, -0.37093086,  0.00145775, -0.01774956, -0.0372619 ]),\n",
       " array([-0.00577254, -0.35600762,  0.00147485, -0.01774065, -0.03725439]),\n",
       " array([-0.00576236, -0.34204344,  0.00149191, -0.0177318 , -0.03724688]),\n",
       " array([-0.0057522 , -0.32895597,  0.00150892, -0.017723  , -0.03723937]),\n",
       " array([-0.00574206, -0.31667163,  0.00152587, -0.01771425, -0.03723185]),\n",
       " array([-0.00573196, -0.30512445,  0.00154277, -0.01770556, -0.03722435]),\n",
       " array([-0.00572189, -0.29425517,  0.00155962, -0.01769692, -0.03721684]),\n",
       " array([-0.00571184, -0.28401044,  0.00157642, -0.01768832, -0.03720933]),\n",
       " array([-0.00570182, -0.27434208,  0.00159317, -0.01767978, -0.03720183]),\n",
       " array([-0.00569182, -0.26520655,  0.00160987, -0.0176713 , -0.03719432]),\n",
       " array([-0.00568186, -0.25656438,  0.00162652, -0.01766286, -0.03718682]),\n",
       " array([-0.00567192, -0.2483797 ,  0.00164312, -0.01765447, -0.03717932]),\n",
       " array([-0.00566201, -0.24061991,  0.00165967, -0.01764613, -0.03717182])]"
      ]
     },
     "execution_count": 56,
     "metadata": {},
     "output_type": "execute_result"
    }
   ],
   "source": [
    "scores"
   ]
  },
  {
   "cell_type": "code",
   "execution_count": null,
   "metadata": {},
   "outputs": [],
   "source": []
  }
 ],
 "metadata": {
  "kernelspec": {
   "display_name": "Python 3",
   "language": "python",
   "name": "python3"
  },
  "language_info": {
   "codemirror_mode": {
    "name": "ipython",
    "version": 3
   },
   "file_extension": ".py",
   "mimetype": "text/x-python",
   "name": "python",
   "nbconvert_exporter": "python",
   "pygments_lexer": "ipython3",
   "version": "3.6.5"
  }
 },
 "nbformat": 4,
 "nbformat_minor": 2
}
