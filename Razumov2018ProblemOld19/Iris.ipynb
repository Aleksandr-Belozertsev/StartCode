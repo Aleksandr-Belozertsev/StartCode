{
 "cells": [
  {
   "cell_type": "markdown",
   "metadata": {},
   "source": [
    "# Кластеризация ирисов Фишера"
   ]
  },
  {
   "cell_type": "markdown",
   "metadata": {},
   "source": [
    "### Пока что мы делаем вид, что знаем число кластеров"
   ]
  },
  {
   "cell_type": "code",
   "execution_count": 417,
   "metadata": {},
   "outputs": [],
   "source": [
    "import numpy as np\n",
    "import pandas as pd\n",
    "import scipy as sp\n",
    "from scipy import optimize\n",
    "import random as rd\n",
    "import requests\n",
    "import io"
   ]
  },
  {
   "cell_type": "code",
   "execution_count": 418,
   "metadata": {},
   "outputs": [],
   "source": [
    "data_url = 'http://archive.ics.uci.edu/ml/machine-learning-databases/iris/iris.data'\n",
    "raw_dataset = requests.get(data_url)\n",
    "assert raw_dataset.status_code == 200"
   ]
  },
  {
   "cell_type": "code",
   "execution_count": 419,
   "metadata": {},
   "outputs": [],
   "source": [
    "frame = pd.read_csv(StringIO(raw_dataset.text),header = None, quotechar=',', skipinitialspace=True)"
   ]
  },
  {
   "cell_type": "code",
   "execution_count": 420,
   "metadata": {},
   "outputs": [],
   "source": [
    "dat_mat = np.zeros((150,4))\n",
    "for i in range(4):\n",
    "    dat_mat[:,i] = frame[i] \n",
    "dat_mat = dat_mat.T"
   ]
  },
  {
   "cell_type": "code",
   "execution_count": 421,
   "metadata": {},
   "outputs": [],
   "source": [
    "solution = np.zeros((3, 150))\n",
    "solution[0,:50] = 1\n",
    "solution[1,50:100] = 1\n",
    "solution[2,100:150] = 1\n",
    "#TODO: Сделать чуть более общим"
   ]
  },
  {
   "cell_type": "code",
   "execution_count": 422,
   "metadata": {},
   "outputs": [],
   "source": [
    "def logreg(x):\n",
    "    return 1./(1.+np.exp(-x))"
   ]
  },
  {
   "cell_type": "code",
   "execution_count": 437,
   "metadata": {},
   "outputs": [],
   "source": [
    "def loss(wgs):\n",
    "    wgs = wgs.reshape((3,4))   \n",
    "    z = np.dot(wgs, dat_mat)\n",
    "    z = logreg(z)\n",
    "    _sum = 0\n",
    "    for i in range(150):\n",
    "        sq = np.linalg.norm(z[:,i] - solution[:,i])\n",
    "        _sum += sq ** 2\n",
    "    return _sum*(1./150.)    "
   ]
  },
  {
   "cell_type": "code",
   "execution_count": 454,
   "metadata": {},
   "outputs": [],
   "source": [
    "while True:\n",
    "    if optimize.minimize(loss, wgs_0).fun < 0.2:\n",
    "        wgs_1 = optimize.minimize(loss, wgs_0).x\n",
    "        break"
   ]
  },
  {
   "cell_type": "code",
   "execution_count": 456,
   "metadata": {},
   "outputs": [],
   "source": [
    "wgs = wgs_1.reshape((3,4))\n",
    "a = np.dot(wgs, dat_mat)\n",
    "a = logreg(a)\n",
    "a = a.T\n",
    "for i in range(150):\n",
    "    for j in range(3):\n",
    "        a[i,j] = (a[i,j]/np.sum(a[i,:]))              "
   ]
  },
  {
   "cell_type": "markdown",
   "metadata": {},
   "source": [
    "##### Todo: Добавить графиков и по возможности сравнить с \"KNN\""
   ]
  }
 ],
 "metadata": {
  "kernelspec": {
   "display_name": "Python 2",
   "language": "python",
   "name": "python2"
  },
  "language_info": {
   "codemirror_mode": {
    "name": "ipython",
    "version": 2
   },
   "file_extension": ".py",
   "mimetype": "text/x-python",
   "name": "python",
   "nbconvert_exporter": "python",
   "pygments_lexer": "ipython2",
   "version": "2.7.15"
  }
 },
 "nbformat": 4,
 "nbformat_minor": 2
}
